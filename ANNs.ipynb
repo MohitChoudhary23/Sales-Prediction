{
  "nbformat": 4,
  "nbformat_minor": 0,
  "metadata": {
    "colab": {
      "name": "Untitled3.ipynb",
      "provenance": []
    },
    "kernelspec": {
      "name": "python3",
      "display_name": "Python 3"
    }
  },
  "cells": [
    {
      "cell_type": "code",
      "metadata": {
        "id": "GNf-_GJS7Ojz"
      },
      "source": [
        "import numpy as np\n",
        "import pandas as pd\n",
        "import matplotlib.pyplot as plt\n",
        "import seaborn as sns\n",
        "\n",
        "train=pd.read_csv(\"/content/train_v9rqX0R.csv\")\n",
        "train_original=pd.read_csv(\"/content/train_v9rqX0R.csv\")\n",
        "test=pd.read_csv(\"/content/test_AbJTz2l.csv\")\n",
        "test_original=pd.read_csv(\"/content/test_AbJTz2l.csv\")\n",
        "\n",
        "\n",
        "\n",
        "\n",
        "train.Outlet_Size.fillna('New_Category',inplace=True)\n",
        "test.Outlet_Size.fillna('New_Category',inplace=True)\n",
        "\n",
        "train['Weight_random']=train.Item_Weight\n",
        "rand_sam=train[\"Item_Weight\"].dropna().sample(train[\"Item_Weight\"].isnull().sum(),random_state=0)\n",
        "rand_sam.index=train[train[\"Item_Weight\"].isnull()].index\n",
        "train.loc[train[\"Item_Weight\"].isnull(),\"Weight_random\"]=rand_sam\n",
        "\n",
        "test['Weight_random']=test.Item_Weight\n",
        "rand_sam=test[\"Item_Weight\"].dropna().sample(test[\"Item_Weight\"].isnull().sum(),random_state=0)\n",
        "rand_sam.index=test[test[\"Item_Weight\"].isnull()].index\n",
        "test.loc[test[\"Item_Weight\"].isnull(),\"Weight_random\"]=rand_sam\n",
        "\n",
        "IQR=train.Item_Visibility.quantile(0.75)-train.Item_Visibility.quantile(0.25)\n",
        "lower_bridge=train.Item_Visibility.quantile(0.25)-1.5*IQR\n",
        "upper_bridge=train.Item_Visibility.quantile(0.75)+1.5*IQR\n",
        "\n",
        "train.loc[train.Item_Visibility>upper_bridge,'Item_Visibility']=upper_bridge\n",
        "\n",
        "IQR=test.Item_Visibility.quantile(0.75)-test.Item_Visibility.quantile(0.25)\n",
        "lower_bridge1=test.Item_Visibility.quantile(0.25)-1.5*IQR\n",
        "upper_bridge1=test.Item_Visibility.quantile(0.75)+1.5*IQR\n",
        "\n",
        "test.loc[test.Item_Visibility>upper_bridge1,'Item_Visibility']=upper_bridge1\n",
        "\n",
        "\n",
        "train=train.drop('Item_Weight',axis=1)\n",
        "test=test.drop('Item_Weight',axis=1)\n",
        "\n",
        "train=train.drop('Item_Identifier',axis=1)\n",
        "test=test.drop('Item_Identifier',axis=1)\n",
        "train=train.drop('Outlet_Identifier',axis=1)\n",
        "test=test.drop('Outlet_Identifier',axis=1)\n",
        "\n",
        "y_train=train.Item_Outlet_Sales\n",
        "train=train.drop('Item_Outlet_Sales',axis=1)\n",
        "\n",
        "\n"
      ],
      "execution_count": null,
      "outputs": []
    },
    {
      "cell_type": "code",
      "metadata": {
        "id": "B9eSBypVCfoY"
      },
      "source": [
        "from sklearn import preprocessing\n",
        "label_encoder=preprocessing.LabelEncoder()\n"
      ],
      "execution_count": null,
      "outputs": []
    },
    {
      "cell_type": "code",
      "metadata": {
        "id": "BM4wOQfDC2fR"
      },
      "source": [
        "train=pd.get_dummies(train)\n",
        "test=pd.get_dummies(test)"
      ],
      "execution_count": null,
      "outputs": []
    },
    {
      "cell_type": "code",
      "metadata": {
        "id": "R2xQRBrl_snG"
      },
      "source": [
        "from sklearn.preprocessing import StandardScaler\n",
        "sc=StandardScaler()\n",
        "train=sc.fit_transform(train)\n",
        "test=sc.transform(test)"
      ],
      "execution_count": null,
      "outputs": []
    },
    {
      "cell_type": "code",
      "metadata": {
        "id": "fFbfeq5RCw2m"
      },
      "source": [
        "from sklearn.model_selection import train_test_split\n",
        "x_train,x_test,y_train1,y_test=train_test_split(train,y_train,test_size=0.2,random_state=0)"
      ],
      "execution_count": null,
      "outputs": []
    },
    {
      "cell_type": "code",
      "metadata": {
        "id": "UADd7fxLD-zD",
        "colab": {
          "base_uri": "https://localhost:8080/"
        },
        "outputId": "9078c38b-905a-4598-9a85-4275ae8c908e"
      },
      "source": [
        "train.shape"
      ],
      "execution_count": null,
      "outputs": [
        {
          "output_type": "execute_result",
          "data": {
            "text/plain": [
              "(8523, 36)"
            ]
          },
          "metadata": {
            "tags": []
          },
          "execution_count": 110
        }
      ]
    },
    {
      "cell_type": "code",
      "metadata": {
        "id": "Phom9bR7EPbC",
        "colab": {
          "base_uri": "https://localhost:8080/"
        },
        "outputId": "8ceb68f7-7f3a-4126-d1f9-2e4c7411fc26"
      },
      "source": [
        "x_test.shape"
      ],
      "execution_count": null,
      "outputs": [
        {
          "output_type": "execute_result",
          "data": {
            "text/plain": [
              "(1705, 24)"
            ]
          },
          "metadata": {
            "tags": []
          },
          "execution_count": 20
        }
      ]
    },
    {
      "cell_type": "code",
      "metadata": {
        "id": "Ja-7AT-VERTg"
      },
      "source": [
        "import keras\n"
      ],
      "execution_count": null,
      "outputs": []
    },
    {
      "cell_type": "code",
      "metadata": {
        "id": "M-aoNgU1EWO-"
      },
      "source": [
        "from keras.models import Sequential\n",
        "from keras.layers import Dense\n",
        "from keras.layers import LeakyReLU,PReLU,ELU\n",
        "from keras.layers import Dropout"
      ],
      "execution_count": null,
      "outputs": []
    },
    {
      "cell_type": "code",
      "metadata": {
        "id": "3i2GSPweExYe"
      },
      "source": [
        "regr=Sequential()\n"
      ],
      "execution_count": null,
      "outputs": []
    },
    {
      "cell_type": "code",
      "metadata": {
        "id": "SY874PFoFNjG"
      },
      "source": [
        "regr.add(Dense(units=15,kernel_initializer='he_uniform',activation='relu',input_dim=36))\n",
        "regr.add(Dense(units=10,kernel_initializer='he_uniform',activation='relu'))\n",
        "regr.add(Dense(units=5,kernel_initializer='he_uniform',activation='relu'))\n",
        "regr.add(Dense(units=1,kernel_initializer='he_uniform'))\n"
      ],
      "execution_count": null,
      "outputs": []
    },
    {
      "cell_type": "code",
      "metadata": {
        "id": "bES54jf5I1Zr",
        "colab": {
          "base_uri": "https://localhost:8080/"
        },
        "outputId": "e2094ef3-6692-44f1-b412-323ea09759b1"
      },
      "source": [
        "regr.compile(optimizer='adam',loss='mean_squared_error',metrics=['RootMeanSquaredError'])\n",
        "model_new=regr.fit(train,y_train,validation_split=0.33, epochs=100)"
      ],
      "execution_count": null,
      "outputs": [
        {
          "output_type": "stream",
          "text": [
            "Epoch 1/100\n",
            "179/179 [==============================] - 0s 2ms/step - loss: 7650092.0000 - root_mean_squared_error: 2765.8799 - val_loss: 7479736.5000 - val_root_mean_squared_error: 2734.9106\n",
            "Epoch 2/100\n",
            "179/179 [==============================] - 0s 2ms/step - loss: 7119270.5000 - root_mean_squared_error: 2668.1960 - val_loss: 6268102.5000 - val_root_mean_squared_error: 2503.6179\n",
            "Epoch 3/100\n",
            "179/179 [==============================] - 0s 2ms/step - loss: 4690971.5000 - root_mean_squared_error: 2165.8650 - val_loss: 2910084.5000 - val_root_mean_squared_error: 1705.8970\n",
            "Epoch 4/100\n",
            "179/179 [==============================] - 0s 2ms/step - loss: 2015243.2500 - root_mean_squared_error: 1419.5927 - val_loss: 1646936.0000 - val_root_mean_squared_error: 1283.3301\n",
            "Epoch 5/100\n",
            "179/179 [==============================] - 0s 2ms/step - loss: 1499169.6250 - root_mean_squared_error: 1224.4059 - val_loss: 1487634.6250 - val_root_mean_squared_error: 1219.6863\n",
            "Epoch 6/100\n",
            "179/179 [==============================] - 0s 2ms/step - loss: 1387535.7500 - root_mean_squared_error: 1177.9371 - val_loss: 1402751.0000 - val_root_mean_squared_error: 1184.3779\n",
            "Epoch 7/100\n",
            "179/179 [==============================] - 0s 2ms/step - loss: 1319424.1250 - root_mean_squared_error: 1148.6619 - val_loss: 1347070.3750 - val_root_mean_squared_error: 1160.6337\n",
            "Epoch 8/100\n",
            "179/179 [==============================] - 0s 2ms/step - loss: 1274873.5000 - root_mean_squared_error: 1129.1029 - val_loss: 1309779.1250 - val_root_mean_squared_error: 1144.4558\n",
            "Epoch 9/100\n",
            "179/179 [==============================] - 0s 2ms/step - loss: 1244673.5000 - root_mean_squared_error: 1115.6494 - val_loss: 1286968.8750 - val_root_mean_squared_error: 1134.4465\n",
            "Epoch 10/100\n",
            "179/179 [==============================] - 0s 2ms/step - loss: 1225426.5000 - root_mean_squared_error: 1106.9899 - val_loss: 1271419.7500 - val_root_mean_squared_error: 1127.5725\n",
            "Epoch 11/100\n",
            "179/179 [==============================] - 0s 2ms/step - loss: 1212357.7500 - root_mean_squared_error: 1101.0712 - val_loss: 1259889.1250 - val_root_mean_squared_error: 1122.4479\n",
            "Epoch 12/100\n",
            "179/179 [==============================] - 0s 2ms/step - loss: 1205382.2500 - root_mean_squared_error: 1097.8990 - val_loss: 1253317.1250 - val_root_mean_squared_error: 1119.5165\n",
            "Epoch 13/100\n",
            "179/179 [==============================] - 0s 2ms/step - loss: 1199240.6250 - root_mean_squared_error: 1095.0985 - val_loss: 1248987.6250 - val_root_mean_squared_error: 1117.5812\n",
            "Epoch 14/100\n",
            "179/179 [==============================] - 0s 2ms/step - loss: 1194810.5000 - root_mean_squared_error: 1093.0739 - val_loss: 1245791.3750 - val_root_mean_squared_error: 1116.1503\n",
            "Epoch 15/100\n",
            "179/179 [==============================] - 0s 2ms/step - loss: 1191005.1250 - root_mean_squared_error: 1091.3318 - val_loss: 1245465.6250 - val_root_mean_squared_error: 1116.0043\n",
            "Epoch 16/100\n",
            "179/179 [==============================] - 0s 2ms/step - loss: 1188429.1250 - root_mean_squared_error: 1090.1510 - val_loss: 1241346.5000 - val_root_mean_squared_error: 1114.1573\n",
            "Epoch 17/100\n",
            "179/179 [==============================] - 0s 2ms/step - loss: 1186547.6250 - root_mean_squared_error: 1089.2877 - val_loss: 1240209.2500 - val_root_mean_squared_error: 1113.6469\n",
            "Epoch 18/100\n",
            "179/179 [==============================] - 0s 2ms/step - loss: 1182673.6250 - root_mean_squared_error: 1087.5079 - val_loss: 1238752.6250 - val_root_mean_squared_error: 1112.9927\n",
            "Epoch 19/100\n",
            "179/179 [==============================] - 0s 2ms/step - loss: 1180843.6250 - root_mean_squared_error: 1086.6663 - val_loss: 1238594.2500 - val_root_mean_squared_error: 1112.9215\n",
            "Epoch 20/100\n",
            "179/179 [==============================] - 0s 2ms/step - loss: 1179316.6250 - root_mean_squared_error: 1085.9635 - val_loss: 1236548.7500 - val_root_mean_squared_error: 1112.0021\n",
            "Epoch 21/100\n",
            "179/179 [==============================] - 0s 2ms/step - loss: 1177403.6250 - root_mean_squared_error: 1085.0823 - val_loss: 1235491.2500 - val_root_mean_squared_error: 1111.5265\n",
            "Epoch 22/100\n",
            "179/179 [==============================] - 0s 2ms/step - loss: 1175805.7500 - root_mean_squared_error: 1084.3458 - val_loss: 1235363.0000 - val_root_mean_squared_error: 1111.4689\n",
            "Epoch 23/100\n",
            "179/179 [==============================] - 0s 2ms/step - loss: 1173925.5000 - root_mean_squared_error: 1083.4784 - val_loss: 1233291.2500 - val_root_mean_squared_error: 1110.5365\n",
            "Epoch 24/100\n",
            "179/179 [==============================] - 0s 2ms/step - loss: 1173547.1250 - root_mean_squared_error: 1083.3038 - val_loss: 1232627.3750 - val_root_mean_squared_error: 1110.2375\n",
            "Epoch 25/100\n",
            "179/179 [==============================] - 0s 2ms/step - loss: 1170840.6250 - root_mean_squared_error: 1082.0538 - val_loss: 1231611.6250 - val_root_mean_squared_error: 1109.7800\n",
            "Epoch 26/100\n",
            "179/179 [==============================] - 0s 2ms/step - loss: 1170131.2500 - root_mean_squared_error: 1081.7261 - val_loss: 1230704.5000 - val_root_mean_squared_error: 1109.3712\n",
            "Epoch 27/100\n",
            "179/179 [==============================] - 0s 2ms/step - loss: 1169102.8750 - root_mean_squared_error: 1081.2506 - val_loss: 1229815.1250 - val_root_mean_squared_error: 1108.9703\n",
            "Epoch 28/100\n",
            "179/179 [==============================] - 0s 2ms/step - loss: 1167946.8750 - root_mean_squared_error: 1080.7159 - val_loss: 1229598.6250 - val_root_mean_squared_error: 1108.8727\n",
            "Epoch 29/100\n",
            "179/179 [==============================] - 0s 2ms/step - loss: 1166430.6250 - root_mean_squared_error: 1080.0142 - val_loss: 1228995.8750 - val_root_mean_squared_error: 1108.6008\n",
            "Epoch 30/100\n",
            "179/179 [==============================] - 0s 2ms/step - loss: 1164643.3750 - root_mean_squared_error: 1079.1864 - val_loss: 1230766.7500 - val_root_mean_squared_error: 1109.3993\n",
            "Epoch 31/100\n",
            "179/179 [==============================] - 0s 2ms/step - loss: 1163672.6250 - root_mean_squared_error: 1078.7366 - val_loss: 1228009.3750 - val_root_mean_squared_error: 1108.1559\n",
            "Epoch 32/100\n",
            "179/179 [==============================] - 0s 2ms/step - loss: 1162480.8750 - root_mean_squared_error: 1078.1841 - val_loss: 1227718.7500 - val_root_mean_squared_error: 1108.0247\n",
            "Epoch 33/100\n",
            "179/179 [==============================] - 0s 2ms/step - loss: 1162196.6250 - root_mean_squared_error: 1078.0522 - val_loss: 1226471.5000 - val_root_mean_squared_error: 1107.4618\n",
            "Epoch 34/100\n",
            "179/179 [==============================] - 0s 2ms/step - loss: 1160403.6250 - root_mean_squared_error: 1077.2203 - val_loss: 1226428.5000 - val_root_mean_squared_error: 1107.4424\n",
            "Epoch 35/100\n",
            "179/179 [==============================] - 0s 2ms/step - loss: 1159078.1250 - root_mean_squared_error: 1076.6049 - val_loss: 1230515.2500 - val_root_mean_squared_error: 1109.2859\n",
            "Epoch 36/100\n",
            "179/179 [==============================] - 0s 2ms/step - loss: 1159407.6250 - root_mean_squared_error: 1076.7579 - val_loss: 1226817.7500 - val_root_mean_squared_error: 1107.6180\n",
            "Epoch 37/100\n",
            "179/179 [==============================] - 0s 2ms/step - loss: 1158604.8750 - root_mean_squared_error: 1076.3851 - val_loss: 1227509.1250 - val_root_mean_squared_error: 1107.9301\n",
            "Epoch 38/100\n",
            "179/179 [==============================] - 0s 2ms/step - loss: 1157237.5000 - root_mean_squared_error: 1075.7498 - val_loss: 1226286.7500 - val_root_mean_squared_error: 1107.3783\n",
            "Epoch 39/100\n",
            "179/179 [==============================] - 0s 2ms/step - loss: 1155363.2500 - root_mean_squared_error: 1074.8783 - val_loss: 1226073.1250 - val_root_mean_squared_error: 1107.2819\n",
            "Epoch 40/100\n",
            "179/179 [==============================] - 0s 2ms/step - loss: 1155149.5000 - root_mean_squared_error: 1074.7788 - val_loss: 1225265.6250 - val_root_mean_squared_error: 1106.9171\n",
            "Epoch 41/100\n",
            "179/179 [==============================] - 0s 2ms/step - loss: 1155018.8750 - root_mean_squared_error: 1074.7180 - val_loss: 1224906.0000 - val_root_mean_squared_error: 1106.7548\n",
            "Epoch 42/100\n",
            "179/179 [==============================] - 0s 2ms/step - loss: 1154032.8750 - root_mean_squared_error: 1074.2593 - val_loss: 1223701.0000 - val_root_mean_squared_error: 1106.2102\n",
            "Epoch 43/100\n",
            "179/179 [==============================] - 0s 2ms/step - loss: 1152881.3750 - root_mean_squared_error: 1073.7231 - val_loss: 1225110.3750 - val_root_mean_squared_error: 1106.8470\n",
            "Epoch 44/100\n",
            "179/179 [==============================] - 0s 2ms/step - loss: 1152843.3750 - root_mean_squared_error: 1073.7054 - val_loss: 1225286.1250 - val_root_mean_squared_error: 1106.9264\n",
            "Epoch 45/100\n",
            "179/179 [==============================] - 0s 2ms/step - loss: 1150554.6250 - root_mean_squared_error: 1072.6390 - val_loss: 1224176.2500 - val_root_mean_squared_error: 1106.4249\n",
            "Epoch 46/100\n",
            "179/179 [==============================] - 0s 2ms/step - loss: 1149812.8750 - root_mean_squared_error: 1072.2933 - val_loss: 1223651.6250 - val_root_mean_squared_error: 1106.1879\n",
            "Epoch 47/100\n",
            "179/179 [==============================] - 0s 2ms/step - loss: 1149604.7500 - root_mean_squared_error: 1072.1962 - val_loss: 1223650.5000 - val_root_mean_squared_error: 1106.1874\n",
            "Epoch 48/100\n",
            "179/179 [==============================] - 0s 2ms/step - loss: 1148685.0000 - root_mean_squared_error: 1071.7672 - val_loss: 1226352.6250 - val_root_mean_squared_error: 1107.4081\n",
            "Epoch 49/100\n",
            "179/179 [==============================] - 0s 2ms/step - loss: 1147212.6250 - root_mean_squared_error: 1071.0801 - val_loss: 1224780.8750 - val_root_mean_squared_error: 1106.6982\n",
            "Epoch 50/100\n",
            "179/179 [==============================] - 0s 2ms/step - loss: 1146645.7500 - root_mean_squared_error: 1070.8154 - val_loss: 1225144.1250 - val_root_mean_squared_error: 1106.8623\n",
            "Epoch 51/100\n",
            "179/179 [==============================] - 0s 2ms/step - loss: 1146232.2500 - root_mean_squared_error: 1070.6223 - val_loss: 1223726.7500 - val_root_mean_squared_error: 1106.2218\n",
            "Epoch 52/100\n",
            "179/179 [==============================] - 0s 2ms/step - loss: 1145727.2500 - root_mean_squared_error: 1070.3865 - val_loss: 1223126.3750 - val_root_mean_squared_error: 1105.9504\n",
            "Epoch 53/100\n",
            "179/179 [==============================] - 0s 2ms/step - loss: 1144927.5000 - root_mean_squared_error: 1070.0128 - val_loss: 1225950.5000 - val_root_mean_squared_error: 1107.2264\n",
            "Epoch 54/100\n",
            "179/179 [==============================] - 0s 2ms/step - loss: 1144419.5000 - root_mean_squared_error: 1069.7754 - val_loss: 1223053.6250 - val_root_mean_squared_error: 1105.9176\n",
            "Epoch 55/100\n",
            "179/179 [==============================] - 0s 2ms/step - loss: 1141824.3750 - root_mean_squared_error: 1068.5618 - val_loss: 1226976.2500 - val_root_mean_squared_error: 1107.6896\n",
            "Epoch 56/100\n",
            "179/179 [==============================] - 0s 2ms/step - loss: 1142397.7500 - root_mean_squared_error: 1068.8301 - val_loss: 1224513.5000 - val_root_mean_squared_error: 1106.5774\n",
            "Epoch 57/100\n",
            "179/179 [==============================] - 0s 2ms/step - loss: 1140786.8750 - root_mean_squared_error: 1068.0763 - val_loss: 1223961.5000 - val_root_mean_squared_error: 1106.3279\n",
            "Epoch 58/100\n",
            "179/179 [==============================] - 0s 2ms/step - loss: 1141819.8750 - root_mean_squared_error: 1068.5597 - val_loss: 1223198.6250 - val_root_mean_squared_error: 1105.9832\n",
            "Epoch 59/100\n",
            "179/179 [==============================] - 0s 2ms/step - loss: 1139860.3750 - root_mean_squared_error: 1067.6425 - val_loss: 1224051.5000 - val_root_mean_squared_error: 1106.3687\n",
            "Epoch 60/100\n",
            "179/179 [==============================] - 0s 2ms/step - loss: 1139612.1250 - root_mean_squared_error: 1067.5261 - val_loss: 1222994.6250 - val_root_mean_squared_error: 1105.8909\n",
            "Epoch 61/100\n",
            "179/179 [==============================] - 0s 2ms/step - loss: 1138001.3750 - root_mean_squared_error: 1066.7715 - val_loss: 1225871.7500 - val_root_mean_squared_error: 1107.1909\n",
            "Epoch 62/100\n",
            "179/179 [==============================] - 0s 2ms/step - loss: 1138801.3750 - root_mean_squared_error: 1067.1464 - val_loss: 1223910.3750 - val_root_mean_squared_error: 1106.3048\n",
            "Epoch 63/100\n",
            "179/179 [==============================] - 0s 2ms/step - loss: 1137489.8750 - root_mean_squared_error: 1066.5317 - val_loss: 1224065.6250 - val_root_mean_squared_error: 1106.3750\n",
            "Epoch 64/100\n",
            "179/179 [==============================] - 0s 2ms/step - loss: 1135390.3750 - root_mean_squared_error: 1065.5470 - val_loss: 1223535.8750 - val_root_mean_squared_error: 1106.1355\n",
            "Epoch 65/100\n",
            "179/179 [==============================] - 0s 2ms/step - loss: 1137083.5000 - root_mean_squared_error: 1066.3412 - val_loss: 1222770.0000 - val_root_mean_squared_error: 1105.7893\n",
            "Epoch 66/100\n",
            "179/179 [==============================] - 0s 2ms/step - loss: 1136161.8750 - root_mean_squared_error: 1065.9089 - val_loss: 1222482.8750 - val_root_mean_squared_error: 1105.6594\n",
            "Epoch 67/100\n",
            "179/179 [==============================] - 0s 2ms/step - loss: 1136069.8750 - root_mean_squared_error: 1065.8658 - val_loss: 1221224.1250 - val_root_mean_squared_error: 1105.0901\n",
            "Epoch 68/100\n",
            "179/179 [==============================] - 0s 2ms/step - loss: 1134435.1250 - root_mean_squared_error: 1065.0986 - val_loss: 1223164.8750 - val_root_mean_squared_error: 1105.9679\n",
            "Epoch 69/100\n",
            "179/179 [==============================] - 0s 2ms/step - loss: 1133302.7500 - root_mean_squared_error: 1064.5669 - val_loss: 1221058.8750 - val_root_mean_squared_error: 1105.0154\n",
            "Epoch 70/100\n",
            "179/179 [==============================] - 0s 2ms/step - loss: 1133529.6250 - root_mean_squared_error: 1064.6735 - val_loss: 1222510.8750 - val_root_mean_squared_error: 1105.6721\n",
            "Epoch 71/100\n",
            "179/179 [==============================] - 0s 2ms/step - loss: 1132223.1250 - root_mean_squared_error: 1064.0597 - val_loss: 1225323.8750 - val_root_mean_squared_error: 1106.9435\n",
            "Epoch 72/100\n",
            "179/179 [==============================] - 0s 2ms/step - loss: 1131831.3750 - root_mean_squared_error: 1063.8756 - val_loss: 1223669.5000 - val_root_mean_squared_error: 1106.1959\n",
            "Epoch 73/100\n",
            "179/179 [==============================] - 0s 2ms/step - loss: 1130976.2500 - root_mean_squared_error: 1063.4736 - val_loss: 1221551.8750 - val_root_mean_squared_error: 1105.2384\n",
            "Epoch 74/100\n",
            "179/179 [==============================] - 0s 2ms/step - loss: 1130365.3750 - root_mean_squared_error: 1063.1864 - val_loss: 1221453.3750 - val_root_mean_squared_error: 1105.1938\n",
            "Epoch 75/100\n",
            "179/179 [==============================] - 0s 2ms/step - loss: 1129657.8750 - root_mean_squared_error: 1062.8536 - val_loss: 1224999.3750 - val_root_mean_squared_error: 1106.7969\n",
            "Epoch 76/100\n",
            "179/179 [==============================] - 0s 2ms/step - loss: 1130038.3750 - root_mean_squared_error: 1063.0326 - val_loss: 1221594.8750 - val_root_mean_squared_error: 1105.2578\n",
            "Epoch 77/100\n",
            "179/179 [==============================] - 0s 2ms/step - loss: 1130077.1250 - root_mean_squared_error: 1063.0509 - val_loss: 1221800.1250 - val_root_mean_squared_error: 1105.3507\n",
            "Epoch 78/100\n",
            "179/179 [==============================] - 0s 2ms/step - loss: 1127605.2500 - root_mean_squared_error: 1061.8876 - val_loss: 1222410.3750 - val_root_mean_squared_error: 1105.6267\n",
            "Epoch 79/100\n",
            "179/179 [==============================] - 0s 2ms/step - loss: 1127613.2500 - root_mean_squared_error: 1061.8914 - val_loss: 1222407.6250 - val_root_mean_squared_error: 1105.6255\n",
            "Epoch 80/100\n",
            "179/179 [==============================] - 0s 2ms/step - loss: 1128290.7500 - root_mean_squared_error: 1062.2103 - val_loss: 1222622.1250 - val_root_mean_squared_error: 1105.7224\n",
            "Epoch 81/100\n",
            "179/179 [==============================] - 0s 2ms/step - loss: 1127117.2500 - root_mean_squared_error: 1061.6578 - val_loss: 1222705.7500 - val_root_mean_squared_error: 1105.7603\n",
            "Epoch 82/100\n",
            "179/179 [==============================] - 0s 2ms/step - loss: 1126198.7500 - root_mean_squared_error: 1061.2251 - val_loss: 1222554.7500 - val_root_mean_squared_error: 1105.6920\n",
            "Epoch 83/100\n",
            "179/179 [==============================] - 0s 2ms/step - loss: 1126384.3750 - root_mean_squared_error: 1061.3126 - val_loss: 1222452.3750 - val_root_mean_squared_error: 1105.6456\n",
            "Epoch 84/100\n",
            "179/179 [==============================] - 0s 2ms/step - loss: 1126172.3750 - root_mean_squared_error: 1061.2126 - val_loss: 1222709.5000 - val_root_mean_squared_error: 1105.7620\n",
            "Epoch 85/100\n",
            "179/179 [==============================] - 0s 2ms/step - loss: 1125125.8750 - root_mean_squared_error: 1060.7195 - val_loss: 1223064.1250 - val_root_mean_squared_error: 1105.9222\n",
            "Epoch 86/100\n",
            "179/179 [==============================] - 0s 2ms/step - loss: 1124572.0000 - root_mean_squared_error: 1060.4584 - val_loss: 1223098.3750 - val_root_mean_squared_error: 1105.9377\n",
            "Epoch 87/100\n",
            "179/179 [==============================] - 0s 2ms/step - loss: 1123894.0000 - root_mean_squared_error: 1060.1387 - val_loss: 1224598.2500 - val_root_mean_squared_error: 1106.6157\n",
            "Epoch 88/100\n",
            "179/179 [==============================] - 0s 2ms/step - loss: 1123987.7500 - root_mean_squared_error: 1060.1829 - val_loss: 1224649.0000 - val_root_mean_squared_error: 1106.6385\n",
            "Epoch 89/100\n",
            "179/179 [==============================] - 0s 2ms/step - loss: 1124110.2500 - root_mean_squared_error: 1060.2406 - val_loss: 1222719.6250 - val_root_mean_squared_error: 1105.7665\n",
            "Epoch 90/100\n",
            "179/179 [==============================] - 0s 2ms/step - loss: 1123363.3750 - root_mean_squared_error: 1059.8884 - val_loss: 1222206.7500 - val_root_mean_squared_error: 1105.5345\n",
            "Epoch 91/100\n",
            "179/179 [==============================] - 0s 2ms/step - loss: 1123714.2500 - root_mean_squared_error: 1060.0538 - val_loss: 1223622.5000 - val_root_mean_squared_error: 1106.1747\n",
            "Epoch 92/100\n",
            "179/179 [==============================] - 0s 2ms/step - loss: 1123001.7500 - root_mean_squared_error: 1059.7178 - val_loss: 1224193.0000 - val_root_mean_squared_error: 1106.4325\n",
            "Epoch 93/100\n",
            "179/179 [==============================] - 0s 2ms/step - loss: 1123181.5000 - root_mean_squared_error: 1059.8026 - val_loss: 1223791.2500 - val_root_mean_squared_error: 1106.2510\n",
            "Epoch 94/100\n",
            "179/179 [==============================] - 0s 2ms/step - loss: 1121815.0000 - root_mean_squared_error: 1059.1577 - val_loss: 1224917.8750 - val_root_mean_squared_error: 1106.7601\n",
            "Epoch 95/100\n",
            "179/179 [==============================] - 0s 2ms/step - loss: 1121620.8750 - root_mean_squared_error: 1059.0660 - val_loss: 1224199.8750 - val_root_mean_squared_error: 1106.4357\n",
            "Epoch 96/100\n",
            "179/179 [==============================] - 0s 2ms/step - loss: 1120932.5000 - root_mean_squared_error: 1058.7410 - val_loss: 1222519.6250 - val_root_mean_squared_error: 1105.6761\n",
            "Epoch 97/100\n",
            "179/179 [==============================] - 0s 2ms/step - loss: 1120223.2500 - root_mean_squared_error: 1058.4060 - val_loss: 1223705.2500 - val_root_mean_squared_error: 1106.2122\n",
            "Epoch 98/100\n",
            "179/179 [==============================] - 0s 2ms/step - loss: 1120232.0000 - root_mean_squared_error: 1058.4102 - val_loss: 1222457.0000 - val_root_mean_squared_error: 1105.6478\n",
            "Epoch 99/100\n",
            "179/179 [==============================] - 0s 2ms/step - loss: 1119246.2500 - root_mean_squared_error: 1057.9443 - val_loss: 1225239.6250 - val_root_mean_squared_error: 1106.9054\n",
            "Epoch 100/100\n",
            "179/179 [==============================] - 0s 2ms/step - loss: 1119250.2500 - root_mean_squared_error: 1057.9463 - val_loss: 1223774.1250 - val_root_mean_squared_error: 1106.2433\n"
          ],
          "name": "stdout"
        }
      ]
    },
    {
      "cell_type": "code",
      "metadata": {
        "id": "rXFYB_ADMMAo"
      },
      "source": [
        "pred=reg.predict(test)\n",
        "subm=pd.read_csv(\"/content/sample_submission_8RXa3c6.csv\")\n"
      ],
      "execution_count": null,
      "outputs": []
    },
    {
      "cell_type": "code",
      "metadata": {
        "id": "ZRK3lmmlNVWD"
      },
      "source": [
        "subm.Item_Outlet_Sales=pred"
      ],
      "execution_count": null,
      "outputs": []
    },
    {
      "cell_type": "code",
      "metadata": {
        "id": "0Rx5J0wrXj3a",
        "colab": {
          "base_uri": "https://localhost:8080/",
          "height": 351
        },
        "outputId": "291f29da-bb49-4435-bf9c-522f01138bc3"
      },
      "source": [
        "subm.loc[subm.Item_Outlet_Sales<0,'Item_Outlet_Sales']=0\n",
        "sns.distplot(subm.Item_Outlet_Sales)\n",
        "plt.show"
      ],
      "execution_count": null,
      "outputs": [
        {
          "output_type": "stream",
          "text": [
            "/usr/local/lib/python3.6/dist-packages/seaborn/distributions.py:2551: FutureWarning: `distplot` is a deprecated function and will be removed in a future version. Please adapt your code to use either `displot` (a figure-level function with similar flexibility) or `histplot` (an axes-level function for histograms).\n",
            "  warnings.warn(msg, FutureWarning)\n"
          ],
          "name": "stderr"
        },
        {
          "output_type": "execute_result",
          "data": {
            "text/plain": [
              "<function matplotlib.pyplot.show>"
            ]
          },
          "metadata": {
            "tags": []
          },
          "execution_count": 119
        },
        {
          "output_type": "display_data",
          "data": {
            "image/png": "[encoded data removed]",
            "text/plain": [
              "<Figure size 432x288 with 1 Axes>"
            ]
          },
          "metadata": {
            "tags": [],
            "needs_background": "light"
          }
        }
      ]
    },
    {
      "cell_type": "code",
      "metadata": {
        "id": "ZvpPmWZAX78I"
      },
      "source": [
        "\n",
        "subm.to_csv(\"/content/sample_submission.csv\",index=False)"
      ],
      "execution_count": null,
      "outputs": []
    },
    {
      "cell_type": "code",
      "metadata": {
        "id": "f6JbchiGYEFf"
      },
      "source": [
        ""
      ],
      "execution_count": null,
      "outputs": []
    },
    {
      "cell_type": "code",
      "metadata": {
        "id": "RO_VOKXBCbM5"
      },
      "source": [
        "train.Outlet_Size=label_encoder.fit_transform(train.Outlet_Size)\n",
        "train.Outlet_Type=label_encoder.fit_transform(train.Outlet_Type)\n",
        "train.Item_Fat_Content=label_encoder.fit_transform(train.Item_Fat_Content)\n",
        "train.Outlet_Location_Type=label_encoder.fit_transform(train.Outlet_Location_Type)\n",
        "test.Outlet_Size=label_encoder.fit_transform(test.Outlet_Size)\n",
        "test.Outlet_Type=label_encoder.fit_transform(test.Outlet_Type)\n",
        "test.Outlet_Location_Type=label_encoder.fit_transform(test.Outlet_Location_Type)\n",
        "test.Item_Fat_Content=label_encoder.fit_transform(test.Item_Fat_Content)"
      ],
      "execution_count": null,
      "outputs": []
    }
  ]
}